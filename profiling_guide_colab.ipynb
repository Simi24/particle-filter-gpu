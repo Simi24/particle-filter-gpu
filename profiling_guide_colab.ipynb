{
 "cells": [
  {
   "cell_type": "markdown",
   "metadata": {},
   "source": [
    "# CUDA Particle Filter Performance Analysis Guide\n",
    "\n",
    "This notebook provides step-by-step instructions for analyzing the performance of the CUDA particle filter implementation.\n",
    "\n",
    "## Features Added\n",
    "\n",
    "- **Detailed Kernel Timing**: Per-kernel execution times for all particle filter phases\n",
    "- **Memory Transfer Profiling**: Host-device memory transfer timing\n",
    "- **NVTX Profiling Markers**: For use with nvprof and Nsight\n",
    "- **Performance Metrics**: Bandwidth, throughput, and efficiency calculations\n",
    "- **Comprehensive Reporting**: Detailed breakdowns and recommendations\n",
    "\n",
    "## Setup\n",
    "\n",
    "First, ensure you have the necessary CUDA profiling tools installed:"
   ]
  },
  {
   "cell_type": "code",
   "execution_count": null,
   "metadata": {},
   "outputs": [],
   "source": [
    "# Check CUDA installation\n",
    "!nvcc --version\n",
    "!nvidia-smi"
   ]
  },
  {
   "cell_type": "markdown",
   "metadata": {},
   "source": [
    "## Build the Project\n",
    "\n",
    "Compile the particle filter with profiling enabled:"
   ]
  },
  {
   "cell_type": "code",
   "execution_count": null,
   "metadata": {},
   "outputs": [],
   "source": [
    "# Clone or upload the project files\n",
    "# Make sure all .cu and .h files are in the current directory\n",
    "\n",
    "# Build with profiling enabled\n",
    "!nvcc -O3 -arch=sm_70 \\\n",
    "  particle_filter_main.cu particle_filter_kernels.cu utils.cu scan_kernels.cu reduce_kernels.cu \\\n",
    "  -o particle_filter_prof \\\n",
    "  -lcudart -lcurand -lnvToolsExt"
   ]
  },
  {
   "cell_type": "markdown",
   "metadata": {},
   "source": [
    "## Run Basic Profiling\n",
    "\n",
    "Execute the particle filter with built-in timing:"
   ]
  },
  {
   "cell_type": "code",
   "execution_count": null,
   "metadata": {},
   "outputs": [],
   "source": [
    "# Run with internal profiling (ENABLE_PROFILING=1 in config)\n",
    "!./particle_filter_prof"
   ]
  },
  {
   "cell_type": "markdown",
   "metadata": {},
   "source": [
    "## Advanced Profiling with nvprof\n",
    "\n",
    "### Kernel Timeline Analysis"
   ]
  },
  {
   "cell_type": "code",
   "execution_count": null,
   "metadata": {},
   "outputs": [],
   "source": [
    "# Generate detailed kernel execution timeline\n",
    "!nvprof --print-gpu-trace ./particle_filter_prof > nvprof_timeline.log 2>&1\n",
    "\n",
    "# Display key timing results\n",
    "!grep -E \"(predict_kernel|update_weights_kernel|normalize_weights_kernel|resample_optimized_kernel)\" nvprof_timeline.log | tail -10"
   ]
  },
  {
   "cell_type": "markdown",
   "metadata": {},
   "source": [
    "### GPU Metrics Analysis"
   ]
  },
  {
   "cell_type": "code",
   "execution_count": null,
   "metadata": {},
   "outputs": [],
   "source": [
    "# Profile key GPU metrics\n",
    "!nvprof --metrics achieved_occupancy,sm_efficiency,warp_execution_efficiency,gld_efficiency,gst_efficiency \\\n",
    "  --print-gpu-summary ./particle_filter_prof > nvprof_metrics.log 2>&1\n",
    "\n",
    "# Display metrics summary\n",
    "!tail -20 nvprof_metrics.log"
   ]
  },
  {
   "cell_type": "markdown",
   "metadata": {},
   "source": [
    "### Memory Bandwidth Analysis"
   ]
  },
  {
   "cell_type": "code",
   "execution_count": null,
   "metadata": {},
   "outputs": [],
   "source": [
    "# Analyze memory bandwidth utilization\n",
    "!nvprof --metrics dram_read_throughput,dram_write_throughput,gld_requested_throughput,gst_requested_throughput \\\n",
    "  ./particle_filter_prof > memory_analysis.log 2>&1\n",
    "\n",
    "# Show memory throughput\n",
    "!grep \"throughput\" memory_analysis.log"
   ]
  },
  {
   "cell_type": "markdown",
   "metadata": {},
   "source": [
    "## Nsight Compute (Advanced Analysis)\n",
    "\n",
    "If Nsight Compute is available, run detailed kernel analysis:"
   ]
  },
  {
   "cell_type": "code",
   "execution_count": null,
   "metadata": {},
   "outputs": [],
   "source": [
    "# Check if ncu is available\n",
    "!which ncu\n",
    "\n",
    "# Run detailed kernel analysis\n",
    "!ncu --target-processes all \\\n",
    "  --metrics sm__warps_active.avg.pct_of_peak_sustained_active,gpu__time_duration.sum \\\n",
    "  --print-summary per-kernel \\\n",
    "  ./particle_filter_prof > ncu_analysis.log 2>&1"
   ]
  },
  {
   "cell_type": "markdown",
   "metadata": {},
   "source": [
    "## Performance Analysis and Recommendations\n",
    "\n",
    "### Key Metrics to Monitor\n",
    "\n",
    "1. **Kernel Execution Times**: Should be balanced across phases\n",
    "2. **Achieved Occupancy**: Target > 50% for good GPU utilization\n",
    "3. **Memory Efficiency**: Global load/store efficiency should be > 80%\n",
    "4. **Warp Execution Efficiency**: Should be > 90%\n",
    "5. **Memory Bandwidth**: Compare achieved vs theoretical bandwidth\n",
    "\n",
    "### Common Optimization Opportunities\n",
    "\n",
    "- **Low Occupancy**: Increase block size or use more blocks\n",
    "- **Memory Inefficiency**: Improve coalescing or use shared memory\n",
    "- **Warp Divergence**: Ensure conditional execution doesn't cause divergence\n",
    "- **Stream Imbalance**: Balance work across CUDA streams\n",
    "\n",
    "### Scaling Analysis\n",
    "\n",
    "Test with different particle counts:"
   ]
  },
  {
   "cell_type": "code",
   "execution_count": null,
   "metadata": {},
   "outputs": [],
   "source": [
    "# Test scaling with different particle counts\n",
    "# Modify N_PARTICLES in particle_filter_config.h and rebuild\n",
    "\n",
    "particle_counts = [10000, 50000, 100000, 500000, 1000000]\n",
    "\n",
    "for n_particles in particle_counts:\n",
    "    print(f\"\\n=== Testing with {n_particles} particles ===\")\n",
    "    # Note: Would need to modify config and rebuild for each test\n",
    "    # !sed -i 's/#define N_PARTICLES.*/#define N_PARTICLES {n_particles}/' particle_filter_config.h\n",
    "    # !make clean && make\n",
    "    # !./particle_filter_prof | grep \"Average time per step\""
   ]
  },
  {
   "cell_type": "markdown",
   "metadata": {},
   "source": [
    "## Profiling Configuration\n",
    "\n",
    "The profiling system can be controlled via defines in `particle_filter_config.h`:\n",
    "\n",
    "- `ENABLE_PROFILING`: Enable/disable detailed timing (set to 1)\n",
    "- `ENABLE_NVTX`: Enable/disable NVTX markers for nvprof (set to 1)\n",
    "\n",
    "## Output Files\n",
    "\n",
    "- `results_gpu_optimized.csv`: Simulation results\n",
    "- `nvprof_timeline.log`: Kernel execution timeline\n",
    "- `nvprof_metrics.log`: GPU performance metrics\n",
    "- `memory_analysis.log`: Memory bandwidth analysis\n",
    "- `ncu_analysis.log`: Nsight Compute detailed analysis\n",
    "\n",
    "## Performance Report Generation\n",
    "\n",
    "The built-in profiling automatically generates a detailed performance report showing:\n",
    "\n",
    "- Per-kernel execution times\n",
    "- Time breakdowns by particle filter phase\n",
    "- Performance metrics (throughput, bandwidth, etc.)\n",
    "- Resampling frequency analysis\n",
    "\n",
    "Use this information to identify bottlenecks and optimization opportunities in your CUDA particle filter implementation."
   ]
  }
 ],
 "metadata": {
  "kernelspec": {
   "display_name": "Python 3",
   "language": "python",
   "name": "python3"
  },
  "language_info": {
   "codemirror_mode": {
    "name": "ipython",
    "version": 3
   },
   "file_extension": ".py",
   "mimetype": "text/x-python",
   "name": "python",
   "nbconvert_exporter": "python",
   "pygments_lexer": "ipython3",
   "version": "3.8.5"
  }
 },
 "nbformat": 4,
 "nbformat_minor": 4
}